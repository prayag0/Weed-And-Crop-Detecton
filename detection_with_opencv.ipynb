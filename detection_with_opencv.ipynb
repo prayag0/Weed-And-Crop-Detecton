{
  "cells": [
    {
      "cell_type": "markdown",
      "metadata": {
        "id": "view-in-github",
        "colab_type": "text"
      },
      "source": [
        "<a href=\"https://colab.research.google.com/github/prayag0/Weed-And-Crop-Detecton/blob/main/detection_with_opencv.ipynb\" target=\"_parent\"><img src=\"https://colab.research.google.com/assets/colab-badge.svg\" alt=\"Open In Colab\"/></a>"
      ]
    },
    {
      "cell_type": "code",
      "execution_count": 20,
      "metadata": {
        "id": "3LDw6yw66gL5"
      },
      "outputs": [],
      "source": [
        "import cv2\n",
        "import numpy as np\n",
        "import matplotlib.pyplot as plt\n",
        "import time\n",
        "import os"
      ]
    },
    {
      "cell_type": "code",
      "execution_count": 11,
      "metadata": {
        "id": "crgOxTd16gL9"
      },
      "outputs": [],
      "source": [
        "#load the class labels our YOLO model was trained on\n",
        "labelsPath = '/content/drive/MyDrive/data/names/obj.names'\n",
        "LABELS = open(labelsPath).read().strip().split(\"\\n\")"
      ]
    },
    {
      "cell_type": "code",
      "execution_count": 9,
      "metadata": {
        "id": "k0wdGCsf6gL-"
      },
      "outputs": [],
      "source": [
        "#load weights and cfg\n",
        "weightsPath = '/content/drive/MyDrive/data/weights/' + 'crop_weed_detection.weights'\n",
        "configPath = '/content/drive/MyDrive/data/cfg/crop_weed.cfg'"
      ]
    },
    {
      "cell_type": "code",
      "execution_count": 8,
      "metadata": {
        "id": "JJAfE6gj7lD_",
        "colab": {
          "base_uri": "https://localhost:8080/"
        },
        "outputId": "761dcafe-a2c9-49e6-a323-7d2dbf84eb28"
      },
      "outputs": [
        {
          "output_type": "stream",
          "name": "stdout",
          "text": [
            "Mounted at /content/drive\n"
          ]
        }
      ],
      "source": [
        "from google.colab import drive\n",
        "drive.mount('/content/drive')"
      ]
    },
    {
      "cell_type": "code",
      "execution_count": 12,
      "metadata": {
        "id": "c0UtdJ7D6gL_"
      },
      "outputs": [],
      "source": [
        "#color selection for drawing bbox\n",
        "np.random.seed(42)\n",
        "COLORS = np.random.randint(0, 255, size=(len(LABELS), 3),dtype=\"uint8\")"
      ]
    },
    {
      "cell_type": "code",
      "execution_count": 13,
      "metadata": {
        "id": "3lJW_JsT6gMA",
        "colab": {
          "base_uri": "https://localhost:8080/"
        },
        "outputId": "8f6d5192-b34b-4a13-b5c0-2f7da2d0ef03"
      },
      "outputs": [
        {
          "output_type": "stream",
          "name": "stdout",
          "text": [
            "[INFO] loading YOLO from disk...\n"
          ]
        }
      ],
      "source": [
        "print(\"[INFO] loading YOLO from disk...\")\n",
        "net = cv2.dnn.readNetFromDarknet(configPath, weightsPath)"
      ]
    },
    {
      "cell_type": "code",
      "execution_count": 14,
      "metadata": {
        "id": "chMKANOv6gME"
      },
      "outputs": [],
      "source": [
        "#parameters\n",
        "confi = 0.5\n",
        "thresh = 0.5"
      ]
    },
    {
      "cell_type": "code",
      "execution_count": null,
      "metadata": {
        "id": "GLc58Yik6gMD"
      },
      "outputs": [],
      "source": []
    },
    {
      "cell_type": "code",
      "execution_count": 31,
      "metadata": {
        "id": "EdUJ6hU_6gME",
        "colab": {
          "base_uri": "https://localhost:8080/",
          "height": 130
        },
        "outputId": "f12ab7d9-7ba7-4286-d2c5-9e9f3936daa3"
      },
      "outputs": [
        {
          "output_type": "error",
          "ename": "TabError",
          "evalue": "ignored",
          "traceback": [
            "\u001b[0;36m  File \u001b[0;32m\"<ipython-input-31-7ac10db3b700>\"\u001b[0;36m, line \u001b[0;32m12\u001b[0m\n\u001b[0;31m    blob = cv2.dnn.blobFromImage(image, 1 / 255.0, (512, 512),swapRB=True, crop=False)\u001b[0m\n\u001b[0m    ^\u001b[0m\n\u001b[0;31mTabError\u001b[0m\u001b[0;31m:\u001b[0m inconsistent use of tabs and spaces in indentation\n"
          ]
        }
      ],
      "source": [
        "img=os.listdir('/content/drive/MyDrive/data/images')\n",
        "for i in img: \n",
        "\t#load our input image and grab its spatial dimensions\n",
        "  image = cv2.imread('/content/drive/MyDrive/data/images'+i)\n",
        "  (H, W) = image.shape[:2]\n",
        "\t#determine only the *output* layer names that we need from YOLO\n",
        "  ln = net.getLayerNames()\n",
        "  ln = [ln[i - 1] for i in net.getUnconnectedOutLayers()]\n",
        "  #construct a blob from the input image and then perform a forward\n",
        "\t#pass of the YOLO object detector, giving us our bounding boxes and\n",
        "\t#associated probabilities\n",
        "\tblob = cv2.dnn.blobFromImage(image, 1 / 255.0, (512, 512),swapRB=True, crop=False)\n",
        "\tnet.setInput(blob)\n",
        "\tstart = time.time()\n",
        "\tlayerOutputs = net.forward(ln)\n",
        "\tend = time.time()\n",
        "\n",
        "\t#show timing information on YOLO\n",
        "  print(\"[INFO] YOLO took {:.6f} seconds\".format(end - start))\n",
        "\n",
        "\t#initialize our lists of detected bounding boxes, confidences, and\n",
        "\t#class IDs, respectively\n",
        "\tboxes = []\n",
        "\tconfidences = []\n",
        "\tclassIDs = []\n",
        "\n",
        "\t#loop over each of the layer outputs\n",
        "\tfor output in layerOutputs:\n",
        "\t\t#loop over each of the detections\n",
        "\t\tfor detection in output:\n",
        "\t\t\t#extract the class ID and confidence (i.e., probability) of\n",
        "\t\t\t#the current object detection\n",
        "\t\t\tscores = detection[5:]\n",
        "\t\t\tclassID = np.argmax(scores)\n",
        "\t\t\tconfidence = scores[classID]\n",
        "\n",
        "\t\t\t#filter out weak predictions by ensuring the detected\n",
        "\t\t\t#probability is greater than the minimum probability\n",
        "\t\t\tif confidence > confi:\n",
        "\t\t\t\t#scale the bounding box coordinates back relative to the\n",
        "\t\t\t\t#size of the image, keeping in mind that YOLO actually\n",
        "\t\t\t\t#returns the center (x, y)-coordinates of the bounding\n",
        "\t\t\t\t#box followed by the boxes' width and height\n",
        "\t\t\t\tbox = detection[0:4] * np.array([W, H, W, H])\n",
        "\t\t\t\t(centerX, centerY, width, height) = box.astype(\"int\")\n",
        "\n",
        "\t\t\t\t#use the center (x, y)-coordinates to derive the top and\n",
        "\t\t\t\t#and left corner of the bounding box\n",
        "\t\t\t\tx = int(centerX - (width / 2))\n",
        "\t\t\t\ty = int(centerY - (height / 2))\n",
        "\n",
        "\t\t\t\t#update our list of bounding box coordinates, confidences,\n",
        "\t\t\t\t#and class IDs\n",
        "\t\t\t\tboxes.append([x, y, int(width), int(height)])\n",
        "\t\t\t\tconfidences.append(float(confidence))\n",
        "\t\t\t\tclassIDs.append(classID)\n",
        "\n",
        "\t#apply non-maxima suppression to suppress weak, overlapping bounding\n",
        "\t#boxes\n",
        "\tidxs = cv2.dnn.NMSBoxes(boxes, confidences, confi, thresh)\n",
        "\n",
        "\t#ensure at least one detection exists\n",
        "\tif len(idxs) > 0:\n",
        "\t\t#loop over the indexes we are keeping\n",
        "\t\tfor i in idxs.flatten():\n",
        "\t\t\t#extract the bounding box coordinates\n",
        "\t\t\t(x, y) = (boxes[i][0], boxes[i][1])\n",
        "\t\t\t(w, h) = (boxes[i][2], boxes[i][3])\n",
        "\n",
        "\t\t\t#draw a bounding box rectangle and label on the image\n",
        "\t\t\tcolor = [int(c) for c in COLORS[classIDs[i]]]\n",
        "\t\t\tcv2.rectangle(image, (x, y), (x + w, y + h), color, 2)\n",
        "\t\t\ttext = \"{}: {:.4f}\".format(LABELS[classIDs[i]], confidences[i])\n",
        "\t\t\tcv2.putText(image, text, (x, y - 5), cv2.FONT_HERSHEY_SIMPLEX,0.5, color, 2)\n",
        "\t\t\tdet = cv2.cvtColor(image,cv2.COLOR_BGR2RGB)\n",
        "\t\t\tplt.figure(figsize=(12,8))\n",
        "\t\t\tplt.imshow(det)"
      ]
    },
    {
      "cell_type": "code",
      "execution_count": null,
      "metadata": {
        "id": "TiTG6MoB6gMH"
      },
      "outputs": [],
      "source": [
        "#save detected image \n",
        "path = 'detection.jpeg'#change if you want\n",
        "det = cv2.cvtColor(det,cv2.COLOR_RGB2BGR)\n",
        "cv2.imwrite(path,det)"
      ]
    },
    {
      "cell_type": "code",
      "execution_count": null,
      "metadata": {
        "id": "RfrfxoFK6gMJ"
      },
      "outputs": [],
      "source": []
    }
  ],
  "metadata": {
    "colab": {
      "provenance": [],
      "include_colab_link": true
    },
    "kernelspec": {
      "display_name": "Python 3",
      "language": "python",
      "name": "python3"
    },
    "language_info": {
      "codemirror_mode": {
        "name": "ipython",
        "version": 3
      },
      "file_extension": ".py",
      "mimetype": "text/x-python",
      "name": "python",
      "nbconvert_exporter": "python",
      "pygments_lexer": "ipython3",
      "version": "3.7.7"
    }
  },
  "nbformat": 4,
  "nbformat_minor": 0
}